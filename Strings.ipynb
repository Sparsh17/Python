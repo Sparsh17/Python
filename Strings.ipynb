{
 "cells": [
  {
   "cell_type": "markdown",
   "metadata": {},
   "source": [
    "## Check palindrome"
   ]
  },
  {
   "cell_type": "code",
   "execution_count": 1,
   "metadata": {},
   "outputs": [
    {
     "name": "stdout",
     "output_type": "stream",
     "text": [
      "abcdcba\n",
      "true\n"
     ]
    }
   ],
   "source": [
    "str=input()\n",
    "# for ele in str:\n",
    "rev = str[::-1]\n",
    "if str == rev:\n",
    "    print(\"true\")\n",
    "else:\n",
    "    print(\"false\")"
   ]
  },
  {
   "cell_type": "markdown",
   "metadata": {},
   "source": [
    "## check permutation"
   ]
  },
  {
   "cell_type": "code",
   "execution_count": 2,
   "metadata": {},
   "outputs": [
    {
     "name": "stdout",
     "output_type": "stream",
     "text": [
      "abcde\n",
      "baedc\n",
      "true\n"
     ]
    }
   ],
   "source": [
    "## Read input as specified in the question.\n",
    "## Print output as specified in the question.\n",
    "str1 = input()\n",
    "str2 = input()\n",
    "sortStr1 = sorted(str1)\n",
    "sortStr2 = sorted(str2)\n",
    "\n",
    "if ((len(sortStr1) == len(sortStr2)) and (sortStr1 == sortStr2)):\n",
    "    print('true')\n",
    "else:\n",
    "    print(\"false\")\n"
   ]
  },
  {
   "cell_type": "markdown",
   "metadata": {},
   "source": [
    "## remove consecutive duplicates"
   ]
  },
  {
   "cell_type": "code",
   "execution_count": 3,
   "metadata": {},
   "outputs": [
    {
     "name": "stdout",
     "output_type": "stream",
     "text": [
      "aabccbaa\n",
      "abcba\n"
     ]
    }
   ],
   "source": [
    "## Read input as specified in the question.\n",
    "## Print output as specified in the question.\n",
    "\n",
    "import itertools\n",
    "def remove_consecutive_duplicates(s1):\n",
    "     return (''.join(i for i, _ in itertools.groupby(s1)))\n",
    "\n",
    "s1= input()\n",
    "print(remove_consecutive_duplicates(s1))\n"
   ]
  },
  {
   "cell_type": "markdown",
   "metadata": {},
   "source": [
    "## reverse each word"
   ]
  },
  {
   "cell_type": "code",
   "execution_count": 4,
   "metadata": {},
   "outputs": [
    {
     "name": "stdout",
     "output_type": "stream",
     "text": [
      "Welcome Sparsh\n",
      "emocleW hsrapS\n"
     ]
    }
   ],
   "source": [
    "s = input()\n",
    "w = s.split()\n",
    "s1=[]\n",
    "for i in w:\n",
    "    s1.append(i[::-1])\n",
    "    # print(s1)\n",
    "s2 = \" \".join(s1)\n",
    "print(s2)"
   ]
  },
  {
   "cell_type": "markdown",
   "metadata": {},
   "source": [
    "## Remove character"
   ]
  },
  {
   "cell_type": "code",
   "execution_count": 5,
   "metadata": {},
   "outputs": [
    {
     "name": "stdout",
     "output_type": "stream",
     "text": [
      "Welcome Sparsh\n",
      "a\n",
      "Welcome Sprsh\n"
     ]
    }
   ],
   "source": [
    "s = input()\n",
    "r = input()\n",
    "print(s.replace(r,\"\"))"
   ]
  },
  {
   "cell_type": "markdown",
   "metadata": {},
   "source": [
    "## Highest occuring character"
   ]
  },
  {
   "cell_type": "code",
   "execution_count": 6,
   "metadata": {},
   "outputs": [
    {
     "name": "stdout",
     "output_type": "stream",
     "text": [
      "abdefgbabfba\n",
      "b\n"
     ]
    }
   ],
   "source": [
    "s = input()\n",
    "ascii = 256\n",
    "counter = [0] * ascii\n",
    "ch=''\n",
    "max=-1\n",
    "for i in s:\n",
    "    counter[ord(i)]+=1\n",
    "for i in s:\n",
    "    if max<counter[ord(i)]:\n",
    "        max = counter[ord(i)]\n",
    "        ch = i\n",
    "print(ch)"
   ]
  },
  {
   "cell_type": "markdown",
   "metadata": {},
   "source": [
    "## compress the string"
   ]
  },
  {
   "cell_type": "code",
   "execution_count": null,
   "metadata": {},
   "outputs": [],
   "source": [
    "from sys import stdin,setrecursionlimit\n",
    "setrecursionlimit(10**7)\n",
    "\n",
    "def getCompressedString(str1) :\n",
    "\n",
    "\t# Your code goes here\n",
    "    i=0\n",
    "    ch=''\n",
    "    while i<len(str1):\n",
    "        j=i+1\n",
    "        c=1\n",
    "        while (j<len(str1) and str1[i]==str1[j]):\n",
    "            j+=1\n",
    "            c+=1\n",
    "        if c==1:\n",
    "            ch += str1[i]\n",
    "        else:\n",
    "            ch += str1[i] + str(c)\n",
    "        i=j\n",
    "    return ch\n",
    "\n",
    "\n",
    "\n",
    "\n",
    "#taking inpit using fast I/O\n",
    "def takeInput() :\n",
    "\t\n",
    "    str1 = input().strip()\n",
    "    return str1\n",
    "\n",
    "\n",
    "#main\n",
    "str1 = takeInput()\n",
    "print(getCompressedString(str1))"
   ]
  }
 ],
 "metadata": {
  "kernelspec": {
   "display_name": "Python 3",
   "language": "python",
   "name": "python3"
  },
  "language_info": {
   "codemirror_mode": {
    "name": "ipython",
    "version": 3
   },
   "file_extension": ".py",
   "mimetype": "text/x-python",
   "name": "python",
   "nbconvert_exporter": "python",
   "pygments_lexer": "ipython3",
   "version": "3.7.6"
  }
 },
 "nbformat": 4,
 "nbformat_minor": 4
}
